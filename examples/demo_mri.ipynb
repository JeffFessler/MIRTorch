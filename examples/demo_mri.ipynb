{
 "cells": [
  {
   "cell_type": "code",
   "execution_count": 1,
   "metadata": {},
   "outputs": [],
   "source": [
    "import sys\n",
    "[sys.path.append(i) for i in ['.', '..']]\n",
    "import torch\n",
    "import numpy as np\n",
    "from mirtorch.alg.cg import CG\n",
    "from mirtorch.linear import LinearMap, FFTCn, NuSense, Sense, FFTCn, Identity, Diff2dframe, Gmri\n",
    "import matplotlib.pyplot as plt\n",
    "import copy\n",
    "import h5py\n",
    "import torchkbnufft as tkbn"
   ]
  },
  {
   "cell_type": "markdown",
   "metadata": {
    "pycharm": {
     "name": "#%% md\n"
    }
   },
   "source": [
    "## FFT example\n",
    "First example shows the basic usage of linear operators.\n",
    "You can use +, -, * like matrices, as long as the size matches.\n",
    ".H calls the adjoint operatos."
   ]
  },
  {
   "cell_type": "code",
   "execution_count": null,
   "metadata": {},
   "outputs": [],
   "source": [
    "# Assign device\n",
    "device0 = torch.device('cuda:0')\n",
    "# Load image\n",
    "from skimage.data import shepp_logan_phantom\n",
    "I_shepp = torch.tensor(shepp_logan_phantom()).to(device0)\n",
    "# Define operator\n",
    "Fop = FFTCn((400, 400), (400, 400), (0,1), norm = 'ortho')\n",
    "k_shepp = Fop*I_shepp"
   ]
  },
  {
   "cell_type": "markdown",
   "metadata": {
    "pycharm": {
     "name": "#%% md\n"
    }
   },
   "source": [
    "show the k-space"
   ]
  },
  {
   "cell_type": "code",
   "execution_count": null,
   "metadata": {},
   "outputs": [],
   "source": [
    "plt.imshow(torch.log(torch.abs(k_shepp)).cpu().data.numpy())\n",
    "plt.colorbar()"
   ]
  },
  {
   "cell_type": "markdown",
   "metadata": {
    "pycharm": {
     "name": "#%% md\n"
    }
   },
   "source": [
    "## MRI parallel imaging example (SENSE)\n",
    "Here we trys a 8-times equidistant 1d undersampling mask.\n",
    "Both conjugate phase reconstruction (A'y)\n",
    "and quadratic roughness least-squares reconstruction (argmin(x) \\|Ax-y\\|_2^2 + \\lambda \\|Rx\\|_2^2) are shown."
   ]
  },
  {
   "cell_type": "code",
   "execution_count": null,
   "metadata": {},
   "outputs": [],
   "source": [
    "ex_multi = np.load('AXT2_210_6001736_layer11.npz')\n",
    "device0 = torch.device('cpu')\n",
    "# k-space\n",
    "k_c = torch.tensor(ex_multi['k_r'] + 1j*ex_multi['k_i']).to(device0)/32767.0\n",
    "# Sense map\n",
    "s_c = torch.tensor(ex_multi['s_r'] + 1j*ex_multi['s_i']).to(device0)/32767.0\n",
    "# Define Sense operator\n",
    "(nc, nh, nw) = s_c.shape\n",
    "Fop = FFTCn((nc, nh, nw), (nc, nh, nw), (1,2), norm = 'ortho')\n",
    "# Conjugate phase reconstruction\n",
    "I1 = Fop.H*k_c\n",
    "I1 = torch.sqrt(I1.abs().pow(2).sum(dim=0))\n",
    "# Define undersampling mask\n",
    "mask = torch.zeros(nh,nw)\n",
    "mask[:,0:nw:8]=1\n",
    "# Define sense operator\n",
    "Sop = Sense(s_c, mask, batchmode = False)\n",
    "# Zero-filled reconstruction\n",
    "I0 = Sop.H*k_c\n",
    "plt.figure(figsize=(20,10))\n",
    "plt.imshow(torch.abs(I0).data.numpy())\n",
    "plt.colorbar()\n",
    "plt.title('zero-filled')"
   ]
  },
  {
   "cell_type": "markdown",
   "metadata": {
    "pycharm": {
     "name": "#%% md\n"
    }
   },
   "source": [
    "Define the quadratic roughness penalty, and corresponding CG reconstruction."
   ]
  },
  {
   "cell_type": "code",
   "execution_count": null,
   "metadata": {},
   "outputs": [],
   "source": [
    "T = Diff2dframe(Sop.size_in)\n",
    "CG_tik = CG(Sop.H*Sop+0.01*T, max_iter = 40, tol=1e-2, alert = False)"
   ]
  },
  {
   "cell_type": "code",
   "execution_count": null,
   "metadata": {},
   "outputs": [],
   "source": [
    "# I0 is both the initialization, and the b in Ax = b.\n",
    "I_tik = CG_tik.run(I0, I0)\n",
    "plt.figure(figsize=(20,10))\n",
    "plt.imshow(torch.abs(I_tik).cpu().data.numpy())\n",
    "plt.colorbar()\n",
    "plt.title('Recovered')"
   ]
  },
  {
   "cell_type": "markdown",
   "metadata": {
    "pycharm": {
     "name": "#%% md\n"
    }
   },
   "source": [
    "## Non-Cartesian reconstruction\n",
    "Here we test a non-Cartesian reconstruction cases."
   ]
  },
  {
   "cell_type": "code",
   "execution_count": null,
   "metadata": {},
   "outputs": [],
   "source": [
    "# Download the files\n",
    "import wget\n",
    "url = \"https://www.dropbox.com/s/q1cr3u1yyvzjtoj/b0.h5?dl=1\"\n",
    "wget.download(url, './b0.h5')"
   ]
  },
  {
   "cell_type": "code",
   "execution_count": null,
   "metadata": {},
   "outputs": [],
   "source": [
    "hf = h5py.File('./b0.h5', 'r')\n",
    "nx = 320;\n",
    "ny = 320;\n",
    "# Load Non-cartesian k-space trajectory\n",
    "ktraj = hf['ktraj'][()]\n",
    "ktraj = np.remainder(ktraj + np.pi, 2*np.pi)-np.pi\n",
    "print('traj shape', ktraj.shape)\n",
    "# Load k-space\n",
    "k = hf['k_r'][()] + 1j*hf['k_i'][()]\n",
    "[ncoil, nslice, nshot, ns] = k.shape\n",
    "print('k shape', k.shape)\n",
    "# Load density compensation function\n",
    "dcf = hf['dcf'][()]\n",
    "print('dcf shape', dcf.shape)\n",
    "# Load sensetivity maps\n",
    "smap = np.transpose(hf['s_r'][()] + 1j*hf['s_i'][()], (3,0,1,2))\n",
    "smap = np.transpose(smap, (0,1,3,2))\n",
    "[_, _, nx, ny] = smap.shape\n",
    "print('smap shape', smap.shape)\n",
    "# Load fmaps\n",
    "fmap = hf['b0'][()]\n",
    "fmap = np.transpose(fmap, (0,2,1))\n",
    "print('fmap shape', fmap.shape)\n",
    "# Define 5x retrospective undersampling mask\n",
    "ktrajunder = ktraj.reshape(2,320,1280)\n",
    "ktrajunder = ktrajunder[:,0:-1:5,:].reshape(2,81920)\n",
    "kunder = k[:,:,0:-1:5,:]"
   ]
  },
  {
   "cell_type": "code",
   "execution_count": null,
   "metadata": {},
   "outputs": [],
   "source": [
    "# Load the numpy file to the pytorch, and define the operator\n",
    "im_size = (nx,ny)\n",
    "iz = 6\n",
    "device0 = torch.device('cuda:0')\n",
    "k0 = torch.tensor(kunder[:,iz,:,:]).to(device = device0).reshape(1,ncoil,nshot*ns//5)\n",
    "s0 = torch.tensor(smap[iz,:,:,:]).to(device = device0).unsqueeze(0)\n",
    "traj0 = torch.tensor(ktrajunder).to(device = device0)\n",
    "Nop = NuSense(s0, traj0)"
   ]
  },
  {
   "cell_type": "code",
   "execution_count": null,
   "metadata": {},
   "outputs": [],
   "source": [
    "# PWLS reconstruction\n",
    "I0 = Nop.H*k0\n",
    "T = Diff2dframe(Nop.size_in)\n",
    "CG_FD = CG(Nop.H*Nop+0.0001*T, max_iter = 40)\n",
    "I_FD = CG_FD.run(I0, I0)"
   ]
  },
  {
   "cell_type": "code",
   "execution_count": null,
   "metadata": {},
   "outputs": [],
   "source": [
    "plt.figure(figsize=(20,10))\n",
    "plt.imshow(torch.abs(I_FD.squeeze(0).squeeze(0)).cpu().data.numpy())\n",
    "plt.colorbar()\n",
    "plt.title('Recovered')"
   ]
  },
  {
   "cell_type": "code",
   "execution_count": null,
   "metadata": {},
   "outputs": [],
   "source": [
    "# Define field-corrected NuSENSE operator\n",
    "b0 = torch.tensor(fmap[iz,:,:]).to(device0).unsqueeze(0)\n",
    "Gop = Gmri(smaps=s0, zmap = -b0, traj = traj0.reshape(2,nshot//5, ns).unsqueeze(0))"
   ]
  },
  {
   "cell_type": "code",
   "execution_count": null,
   "metadata": {},
   "outputs": [],
   "source": [
    "Ib0 = Gop.H*k0.reshape(1,ncoil,nshot//5,ns)\n",
    "T = Diff2d(Gop.size_in, dims = (1,2))\n",
    "CG_FD_b0 = CG(Gop.H*Gop+0.0001*T.H*T, max_iter = 40)\n",
    "I_FD_b0 = CG_FD_b0.run(Ib0, Ib0)"
   ]
  },
  {
   "cell_type": "code",
   "execution_count": null,
   "metadata": {},
   "outputs": [],
   "source": [
    "plt.figure(figsize=(20,10))\n",
    "plt.imshow(torch.abs(I_FD_b0[0]).cpu().data.numpy())\n",
    "plt.colorbar()\n",
    "plt.title('B0-informed reconstruction')"
   ]
  }
 ],
 "metadata": {
  "kernelspec": {
   "display_name": "Python [conda env:torch]",
   "language": "python",
   "name": "conda-env-torch-py"
  },
  "language_info": {
   "codemirror_mode": {
    "name": "ipython",
    "version": 3
   },
   "file_extension": ".py",
   "mimetype": "text/x-python",
   "name": "python",
   "nbconvert_exporter": "python",
   "pygments_lexer": "ipython3",
   "version": "3.7.4"
  },
  "pycharm": {
   "stem_cell": {
    "cell_type": "raw",
    "metadata": {
     "collapsed": false
    },
    "source": []
   }
  }
 },
 "nbformat": 4,
 "nbformat_minor": 4
}
