{
 "cells": [
  {
   "cell_type": "code",
   "execution_count": 39,
   "metadata": {},
   "outputs": [
    {
     "name": "stdout",
     "output_type": "stream",
     "text": [
      "The autoreload extension is already loaded. To reload it, use:\n",
      "  %reload_ext autoreload\n"
     ]
    }
   ],
   "source": [
    "import sys, os\n",
    "sys.path.append(sys.path[0][:sys.path[0].rfind('/')])\n",
    "import torch\n",
    "from mirtorch.prox import prox\n",
    "from mirtorch.linear import *\n",
    "from mirtorch.alg import *\n",
    "from mirtorch.alg.fista import FISTA\n",
    "from mirtorch.alg.pogm import POGM\n",
    "import numpy as np\n",
    "from sklearn.datasets import fetch_openml\n",
    "from sklearn.model_selection import train_test_split\n",
    "from sklearn.preprocessing import normalize, scale\n",
    "from sklearn.metrics import accuracy_score, mean_squared_error\n",
    "import matplotlib.pyplot as plt\n",
    "import matplotlib\n",
    "\n",
    "%load_ext autoreload\n",
    "%autoreload 2"
   ]
  },
  {
   "cell_type": "code",
   "execution_count": 26,
   "metadata": {},
   "outputs": [
    {
     "name": "stdout",
     "output_type": "stream",
     "text": [
      "(70000, 784) (70000,)\n",
      "Expected digit 5.0\n"
     ]
    },
    {
     "data": {
      "image/png": "[encoded data removed]",
      "text/plain": [
       "<Figure size 432x288 with 1 Axes>"
      ]
     },
     "metadata": {
      "needs_background": "light"
     },
     "output_type": "display_data"
    }
   ],
   "source": [
    "#Binary classification on MNIST digits using FISTA (specifically 3 and 5)\n",
    "#get dataset\n",
    "try:\n",
    "    X,y = X_orig, y_orig\n",
    "except:\n",
    "    X, y = fetch_openml('mnist_784', version=1, return_X_y=True, as_frame=False)\n",
    "\n",
    "y = y.astype(np.float64)\n",
    "X_orig, y_orig = X, y\n",
    "# print(len(X))\n",
    "# print(len(X[y==3]))\n",
    "# print(len(X[y==5]))\n",
    "# print(len(X[(y==3) | (y==5)]))\n",
    "\n",
    "def show_digit(X, y):\n",
    "    digit_image = X.reshape(28,28)\n",
    "    print(f'Expected digit {y}')\n",
    "    plt.imshow(digit_image, cmap=matplotlib.cm.binary, interpolation=\"nearest\")\n",
    "    plt.axis(\"off\")\n",
    "    plt.show()\n",
    "#reduce data to be binary classification for simplicity\n",
    "# X, y = X[(y==3) | (y==5)], y[(y==3) | (y==5)]\n",
    "# y = y - 4\n",
    "print(X.shape, y.shape)\n",
    "show_digit(X[0], y[0])\n",
    "#create train/test sets\n",
    "X = normalize(X, axis=0)\n",
    "train_size = 56000\n",
    "test_size = 14000\n",
    "X_train, X_test, y_train, y_test = train_test_split(X, y, train_size=train_size, test_size=test_size)\n",
    "X_train, X_test, y_train, y_test = torch.from_numpy(X_train), torch.from_numpy(X_test), torch.from_numpy(y_train), torch.from_numpy(y_test)"
   ]
  },
  {
   "cell_type": "code",
   "execution_count": 48,
   "metadata": {},
   "outputs": [],
   "source": [
    "\"\"\"\n",
    "Let's solve \n",
    "A'*Ax = y with CG (because A'*A is PSD)\n",
    "Let's solve\n",
    "argmin_x ||Ax-y|| + g(x) with FISTA/FPGM and POGM where grad(||Ax-y||) is L-lipshitz continuous and g(x) is a proximal operator\n",
    "\"\"\"\n",
    "def score(x):\n",
    "    # helper function to evaluate our results on the test data\n",
    "    return mean_squared_error(y_test, torch.matmul(X_test, x))\n",
    "\n",
    "class A(LinearMap):\n",
    "    def __init__(self):\n",
    "        self._A = X_train.clone()\n",
    "        super().__init__([28*28], [train_size])\n",
    "    def _apply(self, x):\n",
    "        return torch.matmul(self._A, x)\n",
    "    def _apply_adjoint(self, x):\n",
    "        return torch.matmul(self._A.T, x)\n",
    "\n",
    "class gradA:\n",
    "    def __init__(self):\n",
    "        self.A_mat = A()\n",
    "    def __call__(self,x):\n",
    "        return self.A_mat.H * (self.A_mat * x - y_train)\n",
    "\n",
    "def loss(A, x, y):\n",
    "    return .5*torch.nn.functional.mse_loss(A*x, y)\n",
    "\n",
    "a_mat = A()\n",
    "L = (torch.linalg.norm(X_train, ord=2)**2).item()"
   ]
  },
  {
   "cell_type": "code",
   "execution_count": 49,
   "metadata": {},
   "outputs": [],
   "source": [
    "\"\"\"\n",
    "Solve CG\n",
    "\"\"\"\n",
    "cg_loss = []\n",
    "for i in range(1, 100, 5):\n",
    "    cg = CG(A=a_mat.H*a_mat, max_iter=i).run(x0=torch.zeros(28*28,dtype=torch.double), b=a_mat.H(y_train))\n",
    "    cg_loss.append(loss(a_mat, cg, y_train))"
   ]
  },
  {
   "cell_type": "code",
   "execution_count": 50,
   "metadata": {
    "tags": []
   },
   "outputs": [],
   "source": [
    "\"\"\"\n",
    "Solve FISTA\n",
    "\"\"\"\n",
    "fsta_loss = []\n",
    "fs_list = FISTA(f_grad=gradA(), \n",
    "               f_L=L, \n",
    "               g_prox=prox.L1Regularizer(1e-3), \n",
    "               max_iter=i).run_alg(x0=torch.zeros(28*28, dtype=torch.double), save_values = True)\n",
    "for i in range(1, 100, 5):\n",
    "    fsta_loss.append(loss(a_mat, fs_list[i-1], y_train))\n",
    "    "
   ]
  },
  {
   "cell_type": "code",
   "execution_count": 51,
   "metadata": {
    "tags": []
   },
   "outputs": [],
   "source": [
    "\"\"\"\n",
    "Solve POGM\n",
    "\"\"\"\n",
    "pogm_loss = []\n",
    "pg_list = POGM(f_grad=gradA(), \n",
    "              f_L=L, \n",
    "              g_prox=prox.L1Regularizer(1e-3), \n",
    "              max_iter=i).run_alg(x0=torch.zeros(28*28, dtype=torch.double), save_values = True)\n",
    "for i in range(1, 100, 5):\n",
    "    pogm_loss.append(loss(a_mat, pg_list[i-1], y_train))"
   ]
  },
  {
   "cell_type": "code",
   "execution_count": 52,
   "metadata": {},
   "outputs": [
    {
     "data": {
      "image/png": "[encoded data removed]",
      "text/plain": [
       "<Figure size 432x288 with 1 Axes>"
      ]
     },
     "metadata": {
      "needs_background": "light"
     },
     "output_type": "display_data"
    }
   ],
   "source": [
    "\"\"\"Plot loss vs number of iterations for each algorithm.\"\"\"\n",
    "plt.plot([i for i in range(1, 100, 5)], fsta_loss, label='FISTA')\n",
    "plt.plot([i for i in range(1, 100, 5)], cg_loss, label='CG')\n",
    "plt.plot([i for i in range(1, 100, 5)], pogm_loss, label='POGM')\n",
    "plt.legend()\n",
    "plt.xlabel('Number of iterations')\n",
    "plt.ylabel('Loss')\n",
    "plt.show()"
   ]
  },
  {
   "cell_type": "code",
   "execution_count": 33,
   "metadata": {},
   "outputs": [],
   "source": [
    "\"\"\"\n",
    "Verify that CG/FSTA/POGM is differentiable\n",
    "\"\"\"\n",
    "cg = CG(A=a_mat.H*a_mat, max_iter=10).run(x0=torch.zeros(28*28,dtype=torch.double,requires_grad=True), b=a_mat.H(y_train))\n",
    "torch.sum(cg).backward()\n",
    "fs = FISTA(f_grad=gradA(), f_L=L, g_prox=prox.L1Regularizer(1e-3), max_iter=10).run_alg(x0=torch.zeros(28*28, dtype=torch.double, requires_grad=True))\n",
    "torch.sum(fs).backward()\n",
    "pg = POGM(f_grad=gradA(), f_L=L, g_prox=prox.L1Regularizer(1e-3), max_iter=10).run_alg(x0=torch.zeros(28*28, dtype=torch.double, requires_grad=True))\n",
    "torch.sum(pg).backward()\n",
    "\n"
   ]
  },
  {
   "cell_type": "code",
   "execution_count": 43,
   "metadata": {},
   "outputs": [],
   "source": []
  },
  {
   "cell_type": "code",
   "execution_count": null,
   "metadata": {},
   "outputs": [],
   "source": []
  }
 ],
 "metadata": {
  "kernelspec": {
   "display_name": "Python 3 (ipykernel)",
   "language": "python",
   "name": "python3"
  },
  "language_info": {
   "codemirror_mode": {
    "name": "ipython",
    "version": 3
   },
   "file_extension": ".py",
   "mimetype": "text/x-python",
   "name": "python",
   "nbconvert_exporter": "python",
   "pygments_lexer": "ipython3",
   "version": "3.8.5"
  },
  "pycharm": {
   "stem_cell": {
    "cell_type": "raw",
    "metadata": {
     "collapsed": false
    },
    "source": []
   }
  }
 },
 "nbformat": 4,
 "nbformat_minor": 4
}
