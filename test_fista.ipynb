{
 "cells": [
  {
   "cell_type": "code",
   "execution_count": 80,
   "metadata": {},
   "outputs": [],
   "source": [
    "import torch\n",
    "from mirtorch.prox import prox\n",
    "from mirtorch.linear import *\n",
    "import numpy as np"
   ]
  },
  {
   "cell_type": "code",
   "execution_count": 81,
   "metadata": {},
   "outputs": [],
   "source": [
    "#initial implementation\n",
    "class FISTA():\n",
    "    def __init__(self, max_iter, step, fval, grad, prox, momentum = 1, restart = False):\n",
    "        self.max_iter = max_iter\n",
    "        self.step = step\n",
    "        self.fval = fval\n",
    "        self.grad = grad\n",
    "        self.prox = prox\n",
    "        self.momentum = momentum\n",
    "        self.restart = restart\n",
    "    '''\n",
    "    Experimenting different implementation\n",
    "    '''\n",
    "    def _update(self, iter):\n",
    "        #looks like one possible implementation from jeff lecture slides\n",
    "        step_prev = self.step\n",
    "        self.step = (1 + np.sqrt(1 + 4*step_prev*step_prev))/2\n",
    "        self.momentum = (1-step_prev)/(1+step_prev)\n",
    "\n",
    "    def run_alg(self, x0):\n",
    "        x_curr = x0\n",
    "        z_curr = x0 \n",
    "        for i in range(self.max_iter):\n",
    "            x_prev = x_curr\n",
    "            z_prev = z_curr\n",
    "            #compute new z_k and x_k\n",
    "            #print(x_curr.shape, z_curr.shape)\n",
    "            z_curr = self.prox(x_prev - self.grad(x_prev)) \n",
    "            x_curr = z_curr + self.momentum * (z_curr - z_prev)\n",
    "            print(f'After iter {i}, z = {z_curr}, x = {x_curr}')\n",
    "            #update momentum value for next iteration\n",
    "            self._update(i)\n",
    "        return x_curr"
   ]
  },
  {
   "cell_type": "code",
   "execution_count": 82,
   "metadata": {},
   "outputs": [],
   "source": [
    "class A(LinearMap):\n",
    "    def __init__(self):\n",
    "        super().__init__([2], [2])\n",
    "        self.mat = torch.Tensor([[2,0],[0,1]])\n",
    "    def _apply(self, x):\n",
    "        return torch.matmul(self.mat,x)\n",
    "    def _apply_adjoint(self,x):\n",
    "        return self._apply(x)\n",
    "class grad(LinearMap):\n",
    "    def __init__(self):\n",
    "        super().__init__([2],[2])\n",
    "        self._A = A()\n",
    "    def _apply(self, x):\n",
    "        y = self._A(x)\n",
    "        #print(y)\n",
    "        y -= torch.Tensor([2,1])\n",
    "        #print(y)\n",
    "        y = self._A(y)\n",
    "        return 2 * y\n",
    "    "
   ]
  },
  {
   "cell_type": "code",
   "execution_count": 83,
   "metadata": {},
   "outputs": [],
   "source": [
    "f = FISTA(10, 0, None, grad(), prox.L1Regularizer(.5))"
   ]
  },
  {
   "cell_type": "code",
   "execution_count": 84,
   "metadata": {},
   "outputs": [
    {
     "name": "stdout",
     "output_type": "stream",
     "text": [
      "After iter 0, z = tensor([0.5000, 0.5000]), x = tensor([0., 0.])\n",
      "After iter 1, z = tensor([7.5000, 1.5000]), x = tensor([14.5000,  2.5000])\n",
      "After iter 2, z = tensor([-93.,   0.]), x = tensor([-93.,   0.])\n",
      "After iter 3, z = tensor([658.5000,   1.5000]), x = tensor([481.0949,   1.1459])\n",
      "After iter 4, z = tensor([-3.3592e+03,  3.5410e-01]), x = tensor([-1.8576e+03,  7.8236e-01])\n",
      "After iter 5, z = tensor([1.3011e+04, 7.1764e-01]), x = tensor([5.3720e+03, 5.4800e-01])\n",
      "After iter 6, z = tensor([-3.7596e+04,  9.5200e-01]), x = tensor([-1.0555e+04,  8.2677e-01])\n",
      "After iter 7, z = tensor([7.3893e+04, 6.7323e-01]), x = tensor([8.5446e+03, 8.3663e-01])\n",
      "After iter 8, z = tensor([-5.9804e+04,  6.6337e-01]), x = tensor([2.4053e+04, 6.6955e-01])\n",
      "After iter 9, z = tensor([-1.6837e+05,  8.3045e-01]), x = tensor([-9.6644e+04,  7.2007e-01])\n"
     ]
    },
    {
     "data": {
      "text/plain": [
       "tensor([-9.6644e+04,  7.2007e-01])"
      ]
     },
     "execution_count": 84,
     "metadata": {},
     "output_type": "execute_result"
    }
   ],
   "source": [
    "f.run_alg(torch.Tensor([1,1]))"
   ]
  },
  {
   "cell_type": "code",
   "execution_count": null,
   "metadata": {},
   "outputs": [],
   "source": []
  }
 ],
 "metadata": {
  "kernelspec": {
   "display_name": "Python 3.8.5 64-bit (conda)",
   "language": "python",
   "name": "python38564bitcondac7010d5495f04ec788964219d36e608d"
  },
  "language_info": {
   "codemirror_mode": {
    "name": "ipython",
    "version": 3
   },
   "file_extension": ".py",
   "mimetype": "text/x-python",
   "name": "python",
   "nbconvert_exporter": "python",
   "pygments_lexer": "ipython3",
   "version": "3.8.5"
  }
 },
 "nbformat": 4,
 "nbformat_minor": 4
}
