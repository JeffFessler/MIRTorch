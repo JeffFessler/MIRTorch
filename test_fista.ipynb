{
 "cells": [
  {
   "cell_type": "code",
   "execution_count": 2,
   "metadata": {},
   "outputs": [],
   "source": [
    "import torch\n",
    "from mirtorch.prox import prox\n",
    "from mirtorch.linear import *\n",
    "import numpy as np\n",
    "from sklearn.datasets import fetch_openml\n",
    "from sklearn.model_selection import train_test_split\n",
    "import matplotlib.pyplot as plt\n",
    "import matplotlib\n",
    "from mirtorch.alg import *"
   ]
  },
  {
   "cell_type": "code",
   "execution_count": 3,
   "metadata": {},
   "outputs": [],
   "source": [
    "#initial implementation\n",
    "class FISTA():\n",
    "    def __init__(self, max_iter, step, fval, grad, prox, momentum = 1, restart = False):\n",
    "        self.max_iter = max_iter\n",
    "        self.step = step\n",
    "        self.fval = fval\n",
    "        self.grad = grad\n",
    "        self.prox = prox\n",
    "        self.momentum = momentum\n",
    "        self.restart = restart\n",
    "    '''\n",
    "    Experimenting different implementation\n",
    "    '''\n",
    "    def _update(self):\n",
    "        #looks like one possible implementation from jeff lecture slides\n",
    "        step_prev = self.step\n",
    "        self.step = (1 + np.sqrt(1 + 4*step_prev*step_prev))/2\n",
    "        self.momentum = (step_prev-1)/self.step\n",
    "        #print(f'\\t Now step={self.step}, momentum={self.momentum}')\n",
    "\n",
    "    def run_alg(self, x0):\n",
    "        x_curr = x0\n",
    "        z_curr = x0 \n",
    "        for i in range(self.max_iter):\n",
    "            #print(f'Before iter {i+1}, \\n \\t z = {z_curr}, x = {x_curr}')\n",
    "            self._update()\n",
    "            x_prev = x_curr\n",
    "            z_prev = z_curr\n",
    "            #compute new z_k and x_k\n",
    "            #print(x_curr.shape, z_curr.shape)\n",
    "            #print(self.grad(x_prev))\n",
    "            #print(x_prev - self.grad(x_prev))\n",
    "            z_curr = self.prox(x_prev - self.grad(x_prev))\n",
    "            #print(f'\\tIn iter {i+1}, grad calculated to be {self.grad(x_prev)}')\n",
    "            x_curr = z_curr + self.momentum * (z_curr - z_prev)\n",
    "            #x_curr = (1-self.momentum)*z_curr + self.momentum*z_prev\n",
    "            #print(f'In iter {i}, x_curr calculated to be {x_curr}')\n",
    "            #update momentum value for next iteration\n",
    "            #self._update()\n",
    "        return x_curr"
   ]
  },
  {
   "cell_type": "code",
   "execution_count": 4,
   "metadata": {},
   "outputs": [],
   "source": [
    "class A(LinearMap):\n",
    "    def __init__(self):\n",
    "        super().__init__([2], [2])\n",
    "        self.mat = torch.Tensor([[2,0],[0,1]])\n",
    "    def _apply(self, x):\n",
    "        return torch.matmul(self.mat,x)\n",
    "    def _apply_adjoint(self,x):\n",
    "        return self._apply(x)\n",
    "    \n",
    "class grad(LinearMap):\n",
    "    def __init__(self):\n",
    "        super().__init__([2],[2])\n",
    "        self._A = A()\n",
    "    def _apply(self, x):\n",
    "        y = self._A(x)\n",
    "        #print(y)\n",
    "        y -= torch.Tensor([2,1])\n",
    "        #print(y)\n",
    "        y = self._A(y)\n",
    "        return 2/17 * y #17 is needed to account for L lipshitz constant\n",
    "    "
   ]
  },
  {
   "cell_type": "code",
   "execution_count": 4,
   "metadata": {},
   "outputs": [],
   "source": [
    "f = FISTA(300, 1, None, grad(), prox.L1Regularizer(.001))"
   ]
  },
  {
   "cell_type": "code",
   "execution_count": 5,
   "metadata": {},
   "outputs": [
    {
     "data": {
      "text/plain": [
       "tensor([0.9979, 0.9915])"
      ]
     },
     "execution_count": 5,
     "metadata": {},
     "output_type": "execute_result"
    }
   ],
   "source": [
    "f.run_alg(torch.Tensor([5,5]))"
   ]
  },
  {
   "cell_type": "code",
   "execution_count": 9,
   "metadata": {},
   "outputs": [
    {
     "name": "stdout",
     "output_type": "stream",
     "text": [
      "70000\n",
      "7141\n",
      "6313\n",
      "13454\n"
     ]
    }
   ],
   "source": [
    "#Binary classification on MNIST digits using FISTA (specifically 3 and 5)\n",
    "#get dataset\n",
    "#uncomment to retech data\n",
    "X, y = fetch_openml('mnist_784', version=1, return_X_y=True, as_frame=False)\n",
    "y = y.astype(np.float64)\n",
    "X_orig, y_orig = X, y\n",
    "print(len(X))\n",
    "print(len(X[y==3]))\n",
    "print(len(X[y==5]))\n",
    "print(len(X[(y==3) | (y==5)]))\n",
    "\n",
    "def show_digit(X, y):\n",
    "    digit_image = X.reshape(28,28)\n",
    "    print(f'Expected digit {y+4}')\n",
    "    plt.imshow(digit_image, cmap=matplotlib.cm.binary, interpolation=\"nearest\")\n",
    "    plt.axis(\"off\")\n",
    "    plt.show()"
   ]
  },
  {
   "cell_type": "code",
   "execution_count": 8,
   "metadata": {},
   "outputs": [
    {
     "name": "stdout",
     "output_type": "stream",
     "text": [
      "(0, 784) (0,)\n"
     ]
    },
    {
     "ename": "IndexError",
     "evalue": "index 0 is out of bounds for axis 0 with size 0",
     "output_type": "error",
     "traceback": [
      "\u001b[0;31m---------------------------------------------------------------------------\u001b[0m",
      "\u001b[0;31mIndexError\u001b[0m                                Traceback (most recent call last)",
      "\u001b[0;32m<ipython-input-8-d499a90158e3>\u001b[0m in \u001b[0;36m<module>\u001b[0;34m\u001b[0m\n\u001b[1;32m      3\u001b[0m \u001b[0my\u001b[0m \u001b[0;34m=\u001b[0m \u001b[0my\u001b[0m \u001b[0;34m-\u001b[0m \u001b[0;36m4\u001b[0m\u001b[0;34m\u001b[0m\u001b[0;34m\u001b[0m\u001b[0m\n\u001b[1;32m      4\u001b[0m \u001b[0mprint\u001b[0m\u001b[0;34m(\u001b[0m\u001b[0mX\u001b[0m\u001b[0;34m.\u001b[0m\u001b[0mshape\u001b[0m\u001b[0;34m,\u001b[0m \u001b[0my\u001b[0m\u001b[0;34m.\u001b[0m\u001b[0mshape\u001b[0m\u001b[0;34m)\u001b[0m\u001b[0;34m\u001b[0m\u001b[0;34m\u001b[0m\u001b[0m\n\u001b[0;32m----> 5\u001b[0;31m \u001b[0mshow_digit\u001b[0m\u001b[0;34m(\u001b[0m\u001b[0mX\u001b[0m\u001b[0;34m[\u001b[0m\u001b[0;36m0\u001b[0m\u001b[0;34m]\u001b[0m\u001b[0;34m,\u001b[0m \u001b[0my\u001b[0m\u001b[0;34m[\u001b[0m\u001b[0;36m0\u001b[0m\u001b[0;34m]\u001b[0m\u001b[0;34m)\u001b[0m\u001b[0;34m\u001b[0m\u001b[0;34m\u001b[0m\u001b[0m\n\u001b[0m\u001b[1;32m      6\u001b[0m \u001b[0;31m#create train/test sets\u001b[0m\u001b[0;34m\u001b[0m\u001b[0;34m\u001b[0m\u001b[0;34m\u001b[0m\u001b[0m\n\u001b[1;32m      7\u001b[0m \u001b[0mX_train\u001b[0m\u001b[0;34m,\u001b[0m \u001b[0mX_test\u001b[0m\u001b[0;34m,\u001b[0m \u001b[0my_train\u001b[0m\u001b[0;34m,\u001b[0m \u001b[0my_test\u001b[0m \u001b[0;34m=\u001b[0m \u001b[0mtrain_test_split\u001b[0m\u001b[0;34m(\u001b[0m\u001b[0mX\u001b[0m\u001b[0;34m,\u001b[0m \u001b[0my\u001b[0m\u001b[0;34m,\u001b[0m \u001b[0mtrain_size\u001b[0m\u001b[0;34m=\u001b[0m\u001b[0;36m10000\u001b[0m\u001b[0;34m,\u001b[0m \u001b[0mtest_size\u001b[0m\u001b[0;34m=\u001b[0m\u001b[0;36m3454\u001b[0m\u001b[0;34m)\u001b[0m\u001b[0;34m\u001b[0m\u001b[0;34m\u001b[0m\u001b[0m\n",
      "\u001b[0;31mIndexError\u001b[0m: index 0 is out of bounds for axis 0 with size 0"
     ]
    }
   ],
   "source": [
    "#reduce data to be binary classification for simplicity\n",
    "X, y = X[(y==3) | (y==5)], y[(y==3) | (y==5)]\n",
    "y = y - 4\n",
    "print(X.shape, y.shape)\n",
    "show_digit(X[0], y[0])\n",
    "#create train/test sets\n",
    "X_train, X_test, y_train, y_test = train_test_split(X, y, train_size=10000, test_size=3454)\n",
    "X_train, X_test, y_train, y_test = torch.from_numpy(X_train), torch.from_numpy(X_test), torch.from_numpy(y_train), torch.from_numpy(y_test)\n",
    "#let digit 3 = -1\n",
    "#let digit 6 = 1\n",
    "\n"
   ]
  },
  {
   "cell_type": "code",
   "execution_count": 19,
   "metadata": {},
   "outputs": [],
   "source": [
    "#define grad callable\n",
    "X_train = X_train.type(torch.float32)\n",
    "X_test = X_test.type(torch.float32)\n",
    "y_train = y_train.type(torch.float32)\n",
    "y_test = y_test.type(torch.float32)\n",
    "def hubergrad(x, dh = .1):\n",
    "    if x >= 1:\n",
    "        return 0\n",
    "    elif x < 1 and x > 1 - dh:\n",
    "        return (x-1)/dh\n",
    "    else:\n",
    "        return -1\n",
    "    \n",
    "def diff_hubergrad(x, dh = .1):\n",
    "    result = torch.where(x>=1, torch.tensor([0],dtype=torch.float), \n",
    "                         torch.where(x<=1-dh, torch.tensor([-1],dtype=torch.float), (x-1)/dh))\n",
    "    return result\n",
    "\n",
    "class A(LinearMap):\n",
    "    def __init__(self, apply_y = True):\n",
    "        self._A = X_train.clone()\n",
    "        if apply_y:\n",
    "            for i in range(self._A.shape[0]):\n",
    "                self._A[i] *= y_train[i]\n",
    "        \n",
    "        super().__init__([28*28], [10000])\n",
    "    def _apply(self, x):\n",
    "        return torch.matmul(self._A, x)\n",
    "    def _apply_adjoint(self, x):\n",
    "        return torch.matmul(self._A.T, x)\n",
    "        \n",
    "class grad:\n",
    "    def __init__(self, dh=.1, requires_grad=True):\n",
    "        self.a = A()\n",
    "        #_,s,_ = torch.svd(self.a._A, compute_uv=False)\n",
    "        self.L = 1/dh * torch.linalg.norm(self.a._A.T)\n",
    "        print(self.L)\n",
    "        self.requires_grad=requires_grad\n",
    "        \n",
    "    def __call__(self, x):\n",
    "        x = self.a(x)\n",
    "        # it is important that user defined function respects differential operations\n",
    "        # these two implementations of the same function are different! I can call .backward() on one of them\n",
    "        # and I can't on the other\n",
    "        if self.requires_grad:\n",
    "            x = diff_hubergrad(x)\n",
    "        else:\n",
    "            x = x.apply_(hubergrad)\n",
    "        x = self.a.adjoint(x)\n",
    "        x = 1/self.L * x\n",
    "        #print(x)\n",
    "        return x\n",
    "def eval(x):\n",
    "    res = torch.matmul(X_test, x)\n",
    "    res = torch.sign(res)\n",
    "    res *= y_test\n",
    "    total = res.shape[0]\n",
    "    correct = res[res>0].shape[0]\n",
    "    print(f'\\tCorrect {correct} out of {total} total')\n",
    "    return correct, total\n",
    "\n",
    "def gd(n_iter, x, grad):\n",
    "    for _ in range(n_iter):\n",
    "        x = x - 1/grad.L*grad(x)\n",
    "    return x"
   ]
  },
  {
   "cell_type": "code",
   "execution_count": 31,
   "metadata": {},
   "outputs": [
    {
     "data": {
      "text/plain": [
       "tensor(2.9186e+10)"
      ]
     },
     "execution_count": 31,
     "metadata": {},
     "output_type": "execute_result"
    }
   ],
   "source": [
    "torch.linalg.norm(torch.matmul(X_train,X_train.T))"
   ]
  },
  {
   "cell_type": "code",
   "execution_count": 21,
   "metadata": {},
   "outputs": [
    {
     "name": "stdout",
     "output_type": "stream",
     "text": [
      "tensor(2429823.5000)\n"
     ]
    }
   ],
   "source": [
    "f = FISTA(50, 1, None, grad(), prox.L1Regularizer(.001))"
   ]
  },
  {
   "cell_type": "code",
   "execution_count": 22,
   "metadata": {},
   "outputs": [],
   "source": [
    "res = f.run_alg(torch.zeros(28*28, dtype=torch.float32, requires_grad=True))\n",
    "res.sum().backward() #can run .backward() on this"
   ]
  },
  {
   "cell_type": "code",
   "execution_count": 23,
   "metadata": {},
   "outputs": [
    {
     "name": "stdout",
     "output_type": "stream",
     "text": [
      "\tCorrect 3237 out of 3454 total\n"
     ]
    },
    {
     "data": {
      "text/plain": [
       "(3237, 3454)"
      ]
     },
     "execution_count": 23,
     "metadata": {},
     "output_type": "execute_result"
    }
   ],
   "source": [
    "eval(res)"
   ]
  },
  {
   "cell_type": "code",
   "execution_count": 14,
   "metadata": {},
   "outputs": [
    {
     "data": {
      "text/plain": [
       "torch.Size([784])"
      ]
     },
     "execution_count": 14,
     "metadata": {},
     "output_type": "execute_result"
    }
   ],
   "source": [
    "res.shape"
   ]
  },
  {
   "cell_type": "markdown",
   "metadata": {},
   "source": [
    "res"
   ]
  },
  {
   "cell_type": "code",
   "execution_count": 24,
   "metadata": {},
   "outputs": [
    {
     "name": "stdout",
     "output_type": "stream",
     "text": [
      "Running alg with 1 iterations\n",
      "tensor(2429823.5000)\n",
      "\tCorrect 2020 out of 3454 total\n",
      "residual at 1th iter: 29107238731776.0\n",
      "\tCorrect 2023 out of 3454 total\n",
      "Running alg with 6 iterations\n",
      "tensor(2429823.5000)\n",
      "\tCorrect 2976 out of 3454 total\n",
      "residual at 1th iter: 29107238731776.0\n",
      "residual at 2th iter: 1416048672768.0\n",
      "residual at 3th iter: 295867645952.0\n",
      "residual at 4th iter: 176581263360.0\n",
      "residual at 5th iter: 59358093312.0\n",
      "residual at 6th iter: 54685171712.0\n",
      "\tCorrect 3269 out of 3454 total\n",
      "Running alg with 11 iterations\n",
      "tensor(2429823.5000)\n",
      "\tCorrect 3199 out of 3454 total\n",
      "residual at 1th iter: 29107238731776.0\n",
      "residual at 2th iter: 1416048672768.0\n",
      "residual at 3th iter: 295867645952.0\n",
      "residual at 4th iter: 176581263360.0\n",
      "residual at 5th iter: 59358093312.0\n",
      "residual at 6th iter: 54685171712.0\n",
      "residual at 7th iter: 55654502400.0\n",
      "residual at 8th iter: 27690872832.0\n",
      "residual at 9th iter: 10705726464.0\n",
      "residual at 10th iter: 7195018240.0\n",
      "residual at 11th iter: 9130596352.0\n",
      "\tCorrect 3296 out of 3454 total\n",
      "Running alg with 16 iterations\n",
      "tensor(2429823.5000)\n",
      "\tCorrect 3239 out of 3454 total\n",
      "residual at 1th iter: 29107238731776.0\n",
      "residual at 2th iter: 1416048672768.0\n",
      "residual at 3th iter: 295867645952.0\n",
      "residual at 4th iter: 176581263360.0\n",
      "residual at 5th iter: 59358093312.0\n",
      "residual at 6th iter: 54685171712.0\n",
      "residual at 7th iter: 55654502400.0\n",
      "residual at 8th iter: 27690872832.0\n",
      "residual at 9th iter: 10705726464.0\n",
      "residual at 10th iter: 7195018240.0\n",
      "residual at 11th iter: 9130596352.0\n",
      "residual at 12th iter: 79249317888.0\n",
      "residual at 13th iter: 6294945280.0\n",
      "residual at 14th iter: 12829890560.0\n",
      "residual at 15th iter: 4961694208.0\n",
      "residual at 16th iter: 2951494912.0\n",
      "\tCorrect 3295 out of 3454 total\n",
      "Running alg with 21 iterations\n",
      "tensor(2429823.5000)\n",
      "\tCorrect 3272 out of 3454 total\n",
      "residual at 1th iter: 29107238731776.0\n",
      "residual at 2th iter: 1416048672768.0\n",
      "residual at 3th iter: 295867645952.0\n",
      "residual at 4th iter: 176581263360.0\n",
      "residual at 5th iter: 59358093312.0\n",
      "residual at 6th iter: 54685171712.0\n",
      "residual at 7th iter: 55654502400.0\n",
      "residual at 8th iter: 27690872832.0\n",
      "residual at 9th iter: 10705726464.0\n",
      "residual at 10th iter: 7195018240.0\n",
      "residual at 11th iter: 9130596352.0\n",
      "residual at 12th iter: 79249317888.0\n",
      "residual at 13th iter: 6294945280.0\n",
      "residual at 14th iter: 12829890560.0\n",
      "residual at 15th iter: 4961694208.0\n",
      "residual at 16th iter: 2951494912.0\n",
      "residual at 17th iter: 27619614720.0\n",
      "residual at 18th iter: 2606775552.0\n",
      "residual at 19th iter: 5118449152.0\n",
      "residual at 20th iter: 2141830784.0\n",
      "residual at 21th iter: 1692777216.0\n",
      "\tCorrect 3293 out of 3454 total\n",
      "Running alg with 26 iterations\n",
      "tensor(2429823.5000)\n",
      "\tCorrect 3282 out of 3454 total\n",
      "residual at 1th iter: 29107238731776.0\n",
      "residual at 2th iter: 1416048672768.0\n",
      "residual at 3th iter: 295867645952.0\n",
      "residual at 4th iter: 176581263360.0\n",
      "residual at 5th iter: 59358093312.0\n",
      "residual at 6th iter: 54685171712.0\n",
      "residual at 7th iter: 55654502400.0\n",
      "residual at 8th iter: 27690872832.0\n",
      "residual at 9th iter: 10705726464.0\n",
      "residual at 10th iter: 7195018240.0\n",
      "residual at 11th iter: 9130596352.0\n",
      "residual at 12th iter: 79249317888.0\n",
      "residual at 13th iter: 6294945280.0\n",
      "residual at 14th iter: 12829890560.0\n",
      "residual at 15th iter: 4961694208.0\n",
      "residual at 16th iter: 2951494912.0\n",
      "residual at 17th iter: 27619614720.0\n",
      "residual at 18th iter: 2606775552.0\n",
      "residual at 19th iter: 5118449152.0\n",
      "residual at 20th iter: 2141830784.0\n",
      "residual at 21th iter: 1692777216.0\n",
      "residual at 22th iter: 37363884032.0\n",
      "residual at 23th iter: 1467480320.0\n",
      "residual at 24th iter: 2452071168.0\n",
      "residual at 25th iter: 3808669696.0\n",
      "residual at 26th iter: 3984547072.0\n",
      "\tCorrect 3296 out of 3454 total\n"
     ]
    }
   ],
   "source": [
    "fsta, grd, cgs = [], [], []\n",
    "a_mat = A(False)\n",
    "for i in range(1, 31, 5):\n",
    "    print(f'Running alg with {i} iterations')\n",
    "    f = eval(FISTA(i, 1, None, grad(), prox.L1Regularizer(.001)).run_alg(torch.zeros(28*28, dtype=torch.float32)))\n",
    "    #g = eval(gd(i, torch.zeros(28*28, dtype=torch.float32), grad()))\n",
    "    cg = CG(a_mat.H*a_mat, i).run(torch.zeros(28*28, dtype=torch.float32), a_mat.H(y_train))\n",
    "    h = eval(cg)\n",
    "    fsta.append(f[0]/f[1])\n",
    "    #grd.append(g[0]/g[1])\n",
    "    cgs.append(h[0]/h[1])"
   ]
  },
  {
   "cell_type": "code",
   "execution_count": 27,
   "metadata": {},
   "outputs": [
    {
     "data": {
      "text/plain": [
       "<[10000]x[784] A Linop>"
      ]
     },
     "execution_count": 27,
     "metadata": {},
     "output_type": "execute_result"
    }
   ],
   "source": [
    "a_mat"
   ]
  },
  {
   "cell_type": "code",
   "execution_count": 307,
   "metadata": {},
   "outputs": [
    {
     "data": {
      "image/png": "[encoded data removed]",
      "text/plain": [
       "<Figure size 432x288 with 1 Axes>"
      ]
     },
     "metadata": {
      "needs_background": "light"
     },
     "output_type": "display_data"
    }
   ],
   "source": [
    "plt.plot([i for i in range(1, 31, 5)], fsta, label='FISTA')\n",
    "plt.plot([i for i in range(1, 31, 5)], grd, label='Regular GD')\n",
    "plt.plot([i for i in range(1, 31, 5)], cgs, label='CG')\n",
    "plt.legend()\n",
    "plt.xlabel('Number of iterations')\n",
    "plt.ylabel('MNIST Test Accuracy')\n",
    "plt.show()"
   ]
  },
  {
   "cell_type": "code",
   "execution_count": 328,
   "metadata": {},
   "outputs": [
    {
     "name": "stdout",
     "output_type": "stream",
     "text": [
      "\tCorrect 3008 out of 3454 total\n"
     ]
    },
    {
     "data": {
      "text/plain": [
       "(3008, 3454)"
      ]
     },
     "execution_count": 328,
     "metadata": {},
     "output_type": "execute_result"
    }
   ],
   "source": [
    "eval(gd(3000, torch.zeros(28*28, dtype=torch.float32), grad()))"
   ]
  },
  {
   "cell_type": "code",
   "execution_count": null,
   "metadata": {},
   "outputs": [],
   "source": []
  }
 ],
 "metadata": {
  "kernelspec": {
   "display_name": "Python 3",
   "language": "python",
   "name": "python3"
  },
  "language_info": {
   "codemirror_mode": {
    "name": "ipython",
    "version": 3
   },
   "file_extension": ".py",
   "mimetype": "text/x-python",
   "name": "python",
   "nbconvert_exporter": "python",
   "pygments_lexer": "ipython3",
   "version": "3.7.6"
  }
 },
 "nbformat": 4,
 "nbformat_minor": 4
}
