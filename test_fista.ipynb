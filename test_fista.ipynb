{
 "cells": [
  {
   "cell_type": "code",
   "execution_count": 296,
   "metadata": {},
   "outputs": [],
   "source": [
    "import torch\n",
    "from mirtorch.prox import prox\n",
    "from mirtorch.linear import *\n",
    "import numpy as np\n",
    "from sklearn.datasets import fetch_openml\n",
    "from sklearn.model_selection import train_test_split\n",
    "import matplotlib.pyplot as plt\n",
    "import matplotlib\n",
    "from mirtorch.alg import *"
   ]
  },
  {
   "cell_type": "code",
   "execution_count": 343,
   "metadata": {},
   "outputs": [],
   "source": [
    "#initial implementation\n",
    "class FISTA():\n",
    "    def __init__(self, max_iter, step, fval, grad, prox, momentum = 1, restart = False):\n",
    "        self.max_iter = max_iter\n",
    "        self.step = step\n",
    "        self.fval = fval\n",
    "        self.grad = grad\n",
    "        self.prox = prox\n",
    "        self.momentum = momentum\n",
    "        self.restart = restart\n",
    "    '''\n",
    "    Experimenting different implementation\n",
    "    '''\n",
    "    def _update(self):\n",
    "        #looks like one possible implementation from jeff lecture slides\n",
    "        step_prev = self.step\n",
    "        self.step = (1 + np.sqrt(1 + 4*step_prev*step_prev))/2\n",
    "        self.momentum = (step_prev-1)/self.step\n",
    "        #print(f'\\t Now step={self.step}, momentum={self.momentum}')\n",
    "\n",
    "    def run_alg(self, x0):\n",
    "        x_curr = x0\n",
    "        z_curr = x0 \n",
    "        for i in range(self.max_iter):\n",
    "            #print(f'Before iter {i+1}, \\n \\t z = {z_curr}, x = {x_curr}')\n",
    "            self._update()\n",
    "            x_prev = x_curr\n",
    "            z_prev = z_curr\n",
    "            #compute new z_k and x_k\n",
    "            #print(x_curr.shape, z_curr.shape)\n",
    "            #print(self.grad(x_prev))\n",
    "            #print(x_prev - self.grad(x_prev))\n",
    "            z_curr = self.prox(x_prev - self.grad(x_prev))\n",
    "            #print(f'\\tIn iter {i+1}, grad calculated to be {self.grad(x_prev)}')\n",
    "            x_curr = z_curr + self.momentum * (z_curr - z_prev)\n",
    "            #x_curr = (1-self.momentum)*z_curr + self.momentum*z_prev\n",
    "            #print(f'In iter {i}, x_curr calculated to be {x_curr}')\n",
    "            #update momentum value for next iteration\n",
    "            #self._update()\n",
    "        return x_curr"
   ]
  },
  {
   "cell_type": "code",
   "execution_count": 93,
   "metadata": {},
   "outputs": [],
   "source": [
    "class A(LinearMap):\n",
    "    def __init__(self):\n",
    "        super().__init__([2], [2])\n",
    "        self.mat = torch.Tensor([[2,0],[0,1]])\n",
    "    def _apply(self, x):\n",
    "        return torch.matmul(self.mat,x)\n",
    "    def _apply_adjoint(self,x):\n",
    "        return self._apply(x)\n",
    "    \n",
    "class grad(LinearMap):\n",
    "    def __init__(self):\n",
    "        super().__init__([2],[2])\n",
    "        self._A = A()\n",
    "    def _apply(self, x):\n",
    "        y = self._A(x)\n",
    "        #print(y)\n",
    "        y -= torch.Tensor([2,1])\n",
    "        #print(y)\n",
    "        y = self._A(y)\n",
    "        return 2/17 * y #17 is needed to account for L lipshitz constant\n",
    "    "
   ]
  },
  {
   "cell_type": "code",
   "execution_count": 94,
   "metadata": {},
   "outputs": [],
   "source": [
    "f = FISTA(300, 1, None, grad(), prox.L1Regularizer(.001))"
   ]
  },
  {
   "cell_type": "code",
   "execution_count": 97,
   "metadata": {},
   "outputs": [
    {
     "data": {
      "text/plain": [
       "tensor([0.9979, 0.9915])"
      ]
     },
     "execution_count": 97,
     "metadata": {},
     "output_type": "execute_result"
    }
   ],
   "source": [
    "f.run_alg(torch.Tensor([5,5]))"
   ]
  },
  {
   "cell_type": "code",
   "execution_count": 348,
   "metadata": {},
   "outputs": [
    {
     "name": "stdout",
     "output_type": "stream",
     "text": [
      "70000\n",
      "7141\n",
      "6313\n",
      "13454\n"
     ]
    }
   ],
   "source": [
    "#Binary classification on MNIST digits using FISTA (specifically 3 and 5)\n",
    "#get dataset\n",
    "#uncomment to retech data\n",
    "X, y = fetch_openml('mnist_784', version=1, return_X_y=True, as_frame=False)\n",
    "y = y.astype(np.float64)\n",
    "X_orig, y_orig = X, y\n",
    "print(len(X))\n",
    "print(len(X[y==3]))\n",
    "print(len(X[y==5]))\n",
    "print(len(X[(y==3) | (y==5)]))\n",
    "\n",
    "def show_digit(X, y):\n",
    "    digit_image = X.reshape(28,28)\n",
    "    print(f'Expected digit {y+4}')\n",
    "    plt.imshow(digit_image, cmap=matplotlib.cm.binary, interpolation=\"nearest\")\n",
    "    plt.axis(\"off\")\n",
    "    plt.show()"
   ]
  },
  {
   "cell_type": "code",
   "execution_count": 349,
   "metadata": {},
   "outputs": [
    {
     "name": "stdout",
     "output_type": "stream",
     "text": [
      "(13454, 784) (13454,)\n",
      "Expected digit 5.0\n"
     ]
    },
    {
     "data": {
      "image/png": "[encoded data removed]",
      "text/plain": [
       "<Figure size 432x288 with 1 Axes>"
      ]
     },
     "metadata": {
      "needs_background": "light"
     },
     "output_type": "display_data"
    }
   ],
   "source": [
    "#reduce data to be binary classification for simplicity\n",
    "X, y = X[(y==3) | (y==5)], y[(y==3) | (y==5)]\n",
    "y = y - 4\n",
    "print(X.shape, y.shape)\n",
    "show_digit(X[0], y[0])\n",
    "#create train/test sets\n",
    "X_train, X_test, y_train, y_test = train_test_split(X, y, train_size=10000, test_size=3454)\n",
    "X_train, X_test, y_train, y_test = torch.from_numpy(X_train), torch.from_numpy(X_test), torch.from_numpy(y_train), torch.from_numpy(y_test)\n",
    "#let digit 3 = -1\n",
    "#let digit 6 = 1\n",
    "\n"
   ]
  },
  {
   "cell_type": "code",
   "execution_count": 361,
   "metadata": {},
   "outputs": [],
   "source": [
    "#define grad callable\n",
    "X_train = X_train.type(torch.float32)\n",
    "X_test = X_test.type(torch.float32)\n",
    "y_train = y_train.type(torch.float32)\n",
    "y_test = y_test.type(torch.float32)\n",
    "def hubergrad(x, dh = .1):\n",
    "    if x >= 1:\n",
    "        return 0\n",
    "    elif x < 1 and x > 1 - dh:\n",
    "        return (x-1)/dh\n",
    "    else:\n",
    "        return -1\n",
    "    \n",
    "def diff_hubergrad(x, dh = .1):\n",
    "    result = torch.where(x>=1, torch.tensor([0],dtype=torch.float), \n",
    "                         torch.where(x<=1-dh, torch.tensor([-1],dtype=torch.float), (x-1)/dh))\n",
    "    return result\n",
    "\n",
    "class A(LinearMap):\n",
    "    def __init__(self, apply_y = True):\n",
    "        self._A = X_train.clone()\n",
    "        if apply_y:\n",
    "            for i in range(self._A.shape[0]):\n",
    "                self._A[i] *= y_train[i]\n",
    "        \n",
    "        super().__init__([28*28], [10000])\n",
    "    def _apply(self, x):\n",
    "        return torch.matmul(self._A, x)\n",
    "    def _apply_adjoint(self, x):\n",
    "        return torch.matmul(self._A.T, x)\n",
    "        \n",
    "class grad:\n",
    "    def __init__(self, dh=.1, requires_grad=True):\n",
    "        self.a = A()\n",
    "        #_,s,_ = torch.svd(self.a._A, compute_uv=False)\n",
    "        self.L = 1/dh * torch.linalg.norm(self.a._A.T)**2\n",
    "        self.requires_grad=requires_grad\n",
    "        \n",
    "    def __call__(self, x):\n",
    "        x = self.a(x)\n",
    "        # it is important that user defined function respects differential operations\n",
    "        # these two implementations of the same function are different! I can call .backward() on one of them\n",
    "        # and I can't on the other\n",
    "        if self.requires_grad:\n",
    "            x = diff_hubergrad(x)\n",
    "        else:\n",
    "            x = x.apply_(hubergrad)\n",
    "        x = self.a.adjoint(x)\n",
    "        x = 1/self.L * x\n",
    "        #print(x)\n",
    "        return x\n",
    "def eval(x):\n",
    "    res = torch.matmul(X_test, x)\n",
    "    res = torch.sign(res)\n",
    "    res *= y_test\n",
    "    total = res.shape[0]\n",
    "    correct = res[res>0].shape[0]\n",
    "    print(f'\\tCorrect {correct} out of {total} total')\n",
    "    return correct, total\n",
    "\n",
    "def gd(n_iter, x, grad):\n",
    "    for _ in range(n_iter):\n",
    "        x = x - 1/grad.L*grad(x)\n",
    "    return x"
   ]
  },
  {
   "cell_type": "code",
   "execution_count": null,
   "metadata": {},
   "outputs": [],
   "source": []
  },
  {
   "cell_type": "code",
   "execution_count": null,
   "metadata": {},
   "outputs": [
    {
     "name": "stdout",
     "output_type": "stream",
     "text": [
      "tensor(2431864.2500)\n"
     ]
    }
   ],
   "source": [
    "f = FISTA(50, 1, None, grad(), prox.L1Regularizer(.001))"
   ]
  },
  {
   "cell_type": "code",
   "execution_count": 352,
   "metadata": {},
   "outputs": [
    {
     "name": "stdout",
     "output_type": "stream",
     "text": [
      "\tCorrect 0 out of 3454 total\n"
     ]
    },
    {
     "data": {
      "text/plain": [
       "<matplotlib.image.AxesImage at 0x7ff037c94910>"
      ]
     },
     "execution_count": 352,
     "metadata": {},
     "output_type": "execute_result"
    },
    {
     "data": {
      "image/png": "[encoded data removed]",
      "text/plain": [
       "<Figure size 432x288 with 1 Axes>"
      ]
     },
     "metadata": {
      "needs_background": "light"
     },
     "output_type": "display_data"
    }
   ],
   "source": [
    "x = torch.zeros(28*28, dtype=torch.float32, requires_grad=True)\n",
    "res = f.run_alg(x)\n",
    "res.sum().backward() #can run .backward() on this\n",
    "eval(res)\n",
    "plt.imshow(x.grad.data.reshape(28,28).numpy())"
   ]
  },
  {
   "cell_type": "markdown",
   "metadata": {},
   "source": [
    "res"
   ]
  },
  {
   "cell_type": "code",
   "execution_count": 362,
   "metadata": {
    "collapsed": true,
    "jupyter": {
     "outputs_hidden": true
    }
   },
   "outputs": [
    {
     "name": "stdout",
     "output_type": "stream",
     "text": [
      "Running alg with 1 iterations\n",
      "\tCorrect 0 out of 3454 total\n",
      "residual at 1th iter: 28459388633088.0\n",
      "\tCorrect 1965 out of 3454 total\n",
      "Running alg with 6 iterations\n",
      "\tCorrect 0 out of 3454 total\n",
      "residual at 1th iter: 28459388633088.0\n",
      "residual at 2th iter: 1347280175104.0\n",
      "residual at 3th iter: 278624239616.0\n",
      "residual at 4th iter: 170569515008.0\n",
      "residual at 5th iter: 64597774336.0\n",
      "residual at 6th iter: 490022731776.0\n",
      "\tCorrect 3263 out of 3454 total\n",
      "Running alg with 11 iterations\n",
      "\tCorrect 0 out of 3454 total\n",
      "residual at 1th iter: 28459388633088.0\n",
      "residual at 2th iter: 1347280175104.0\n",
      "residual at 3th iter: 278624239616.0\n",
      "residual at 4th iter: 170569515008.0\n",
      "residual at 5th iter: 64597774336.0\n",
      "residual at 6th iter: 490022731776.0\n",
      "residual at 7th iter: 52681039872.0\n",
      "residual at 8th iter: 17762107392.0\n",
      "residual at 9th iter: 10240568320.0\n",
      "residual at 10th iter: 177744019456.0\n",
      "residual at 11th iter: 7442447872.0\n",
      "\tCorrect 3298 out of 3454 total\n",
      "Running alg with 16 iterations\n",
      "\tCorrect 0 out of 3454 total\n",
      "residual at 1th iter: 28459388633088.0\n",
      "residual at 2th iter: 1347280175104.0\n",
      "residual at 3th iter: 278624239616.0\n",
      "residual at 4th iter: 170569515008.0\n",
      "residual at 5th iter: 64597774336.0\n",
      "residual at 6th iter: 490022731776.0\n",
      "residual at 7th iter: 52681039872.0\n",
      "residual at 8th iter: 17762107392.0\n",
      "residual at 9th iter: 10240568320.0\n",
      "residual at 10th iter: 177744019456.0\n",
      "residual at 11th iter: 7442447872.0\n",
      "residual at 12th iter: 8401311232.0\n",
      "residual at 13th iter: 5128276480.0\n",
      "residual at 14th iter: 37153701888.0\n",
      "residual at 15th iter: 19095379968.0\n",
      "residual at 16th iter: 3830175744.0\n",
      "\tCorrect 3300 out of 3454 total\n",
      "Running alg with 21 iterations\n",
      "\tCorrect 0 out of 3454 total\n",
      "residual at 1th iter: 28459388633088.0\n",
      "residual at 2th iter: 1347280175104.0\n",
      "residual at 3th iter: 278624239616.0\n",
      "residual at 4th iter: 170569515008.0\n",
      "residual at 5th iter: 64597774336.0\n",
      "residual at 6th iter: 490022731776.0\n",
      "residual at 7th iter: 52681039872.0\n",
      "residual at 8th iter: 17762107392.0\n",
      "residual at 9th iter: 10240568320.0\n",
      "residual at 10th iter: 177744019456.0\n",
      "residual at 11th iter: 7442447872.0\n",
      "residual at 12th iter: 8401311232.0\n",
      "residual at 13th iter: 5128276480.0\n",
      "residual at 14th iter: 37153701888.0\n",
      "residual at 15th iter: 19095379968.0\n",
      "residual at 16th iter: 3830175744.0\n",
      "residual at 17th iter: 2526149120.0\n",
      "residual at 18th iter: 3611803392.0\n",
      "residual at 19th iter: 11949847552.0\n",
      "residual at 20th iter: 3091339520.0\n",
      "residual at 21th iter: 1836704000.0\n",
      "\tCorrect 3290 out of 3454 total\n",
      "Running alg with 26 iterations\n",
      "\tCorrect 0 out of 3454 total\n",
      "residual at 1th iter: 28459388633088.0\n",
      "residual at 2th iter: 1347280175104.0\n",
      "residual at 3th iter: 278624239616.0\n",
      "residual at 4th iter: 170569515008.0\n",
      "residual at 5th iter: 64597774336.0\n",
      "residual at 6th iter: 490022731776.0\n",
      "residual at 7th iter: 52681039872.0\n",
      "residual at 8th iter: 17762107392.0\n",
      "residual at 9th iter: 10240568320.0\n",
      "residual at 10th iter: 177744019456.0\n",
      "residual at 11th iter: 7442447872.0\n",
      "residual at 12th iter: 8401311232.0\n",
      "residual at 13th iter: 5128276480.0\n",
      "residual at 14th iter: 37153701888.0\n",
      "residual at 15th iter: 19095379968.0\n",
      "residual at 16th iter: 3830175744.0\n",
      "residual at 17th iter: 2526149120.0\n",
      "residual at 18th iter: 3611803392.0\n",
      "residual at 19th iter: 11949847552.0\n",
      "residual at 20th iter: 3091339520.0\n",
      "residual at 21th iter: 1836704000.0\n",
      "residual at 22th iter: 1505600640.0\n",
      "residual at 23th iter: 25688352768.0\n",
      "residual at 24th iter: 1523859712.0\n",
      "residual at 25th iter: 2284286464.0\n",
      "residual at 26th iter: 3993540096.0\n",
      "\tCorrect 3292 out of 3454 total\n"
     ]
    }
   ],
   "source": [
    "fsta, grd, cgs = [], [], []\n",
    "a_mat = A(False)\n",
    "for i in range(1, 31, 5):\n",
    "    print(f'Running alg with {i} iterations')\n",
    "    f = eval(FISTA(i, 1, None, grad(), prox.L1Regularizer(.1)).run_alg(torch.zeros(28*28, dtype=torch.float32)))\n",
    "    #g = eval(gd(i, torch.zeros(28*28, dtype=torch.float32), grad()))\n",
    "    cg = CG(a_mat.H*a_mat, i).run(torch.zeros(28*28, dtype=torch.float32), a_mat.H(y_train))\n",
    "    h = eval(cg)\n",
    "    fsta.append(f[0]/f[1])\n",
    "    #grd.append(g[0]/g[1])\n",
    "    cgs.append(h[0]/h[1])"
   ]
  },
  {
   "cell_type": "code",
   "execution_count": 363,
   "metadata": {},
   "outputs": [
    {
     "data": {
      "image/png": "[encoded data removed]",
      "text/plain": [
       "<Figure size 432x288 with 1 Axes>"
      ]
     },
     "metadata": {
      "needs_background": "light"
     },
     "output_type": "display_data"
    }
   ],
   "source": [
    "plt.plot([i for i in range(1, 31, 5)], fsta, label='FISTA')\n",
    "#plt.plot([i for i in range(1, 31, 5)], grd, label='Regular GD')\n",
    "plt.plot([i for i in range(1, 31, 5)], cgs, label='CG')\n",
    "plt.legend()\n",
    "plt.xlabel('Number of iterations')\n",
    "plt.ylabel('MNIST Test Accuracy')\n",
    "plt.show()"
   ]
  },
  {
   "cell_type": "code",
   "execution_count": 328,
   "metadata": {},
   "outputs": [
    {
     "name": "stdout",
     "output_type": "stream",
     "text": [
      "\tCorrect 3008 out of 3454 total\n"
     ]
    },
    {
     "data": {
      "text/plain": [
       "(3008, 3454)"
      ]
     },
     "execution_count": 328,
     "metadata": {},
     "output_type": "execute_result"
    }
   ],
   "source": [
    "eval(gd(3000, torch.zeros(28*28, dtype=torch.float32), grad()))"
   ]
  },
  {
   "cell_type": "code",
   "execution_count": null,
   "metadata": {},
   "outputs": [],
   "source": []
  }
 ],
 "metadata": {
  "kernelspec": {
   "display_name": "Python 3.8.5 64-bit (conda)",
   "language": "python",
   "name": "python38564bitcondac7010d5495f04ec788964219d36e608d"
  },
  "language_info": {
   "codemirror_mode": {
    "name": "ipython",
    "version": 3
   },
   "file_extension": ".py",
   "mimetype": "text/x-python",
   "name": "python",
   "nbconvert_exporter": "python",
   "pygments_lexer": "ipython3",
   "version": "3.8.5"
  }
 },
 "nbformat": 4,
 "nbformat_minor": 4
}
